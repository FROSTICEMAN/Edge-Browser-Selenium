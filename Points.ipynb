{
 "cells": [
  {
   "cell_type": "code",
   "execution_count": 3,
   "metadata": {},
   "outputs": [],
   "source": [
    "\n",
    "from selenium import webdriver\n",
    "from selenium.webdriver.common.keys import Keys\n",
    "import time\n",
    "import random\n"
   ]
  },
  {
   "cell_type": "code",
   "execution_count": 4,
   "metadata": {},
   "outputs": [],
   "source": [
    "# List of queries to search\n",
    "search_queries = ['Techno',\"Gray\", \"Beige\", \"Turquoise\", \"Gold\", \"Silver\", \"Cyan\", \"Magenta\", \"Lavender\", \"Indigo\", \"Teal\",\"Maroon\", \"Olive\", \"Coral\", \"Salmon\", \"Aqua\", \"Violet\", \"Khaki\", \"Mauve\", \"Navy\", \"Slate\",\n",
    "\"Ruby\", \"Sapphire\", \"Emerald\", \"Topaz\", \"Amber\", \"Crimson\", \"Sienna\",\"Sapphire\", \"Crimson\", \"Forest\", \"Amber\", \"Sunset\", \"Olive\", \"Lagoon\", \"Vermilion\", \"Ivory\", \"Peacock\",\n",
    "\"Book\", \"Bicycle\", \"Key\", \"Camera\", \"Map\", \"Globe\", \"Cup\", \"Chair\", \"Lamp\", \"Phone\",\n",
    "\"Computer\", \"Knife\", \"Tablet\", \"Backpack\", \"Umbrella\", \"Pillow\", \"Notebook\", \"Headphones\", \"Plant\", \"Clock\",\n",
    "\"Mirror\", \"Wallet\", \"Brush\", \"Towel\", \"Journal\", \"Guitar\", \"Telescope\", \"Microscope\", \"Scissors\", \"Ruler\",\n",
    "\"Sunglasses\", \"Sculpture\", \"Easel\", \"Chessboard\", \"Screwdriver\", \"Compass\", \"Binoculars\", \"Flask\", \"Magnifying Glass\",\n",
    "\"Flashlight\", \"Envelope\", \"Laptop\", \"Calendar\", \"Paintbrush\", \"Chalkboard\", \"Puzzle\", \"Stapler\", \"Calculator\",\n",
    "\"Violin\", \"Globe\", \"Candle\", \"Kite\", \"Scales\", \"Brush\", \"Hammock\", \"Planner\", \"Photograph\", \"Badge\",\"Vanilla\", \"Chocolate\", \"Strawberry\", \"Mint Chocolate Chip\", \"Cookies and Cream\", \"Rocky Road\", \"Butter Pecan\", \"Neapolitan\", \"Pistachio\", \"Coffee\",\n",
    "\"Cookie Dough\", \"Rainbow Sherbet\", \"Mango Sorbet\", \"Black Cherry\", \"Maple Walnut\", \"Birthday Cake\", \"Cotton Candy\", \"Peanut Butter Cup\", \"Salted Caramel\", \"Toffee Crunch\",\n",
    "\"Cherry Garcia\", \"Peppermint\", \"Caramel Swirl\", \"Mocha Almond Fudge\", \"Gray\", \"Beige\", \"Turquoise\", \"Gold\", \"Silver\", \"Cyan\", \"Magenta\", \"Lavender\", \"Indigo\", \"Teal\",\"Maroon\", \"Olive\", \"Coral\", \"Salmon\", \"Aqua\", \"Violet\", \"Khaki\", \"Mauve\", \"Navy\", \"Slate\",\n",
    "\"Ruby\", \"Sapphire\", \"Emerald\", \"Topaz\", \"Amber\", \"Crimson\", \"Sienna\",\"Sapphire\", \"Crimson\", \"Forest\", \"Amber\", \"Sunset\", \"Olive\", \"Lagoon\", \"Vermilion\", \"Ivory\", \"Peacock\",\n",
    "\"Book\", \"Bicycle\", \"Key\", \"Camera\", \"Map\", \"Globe\", \"Cup\", \"Chair\", \"Lamp\", \"Phone\",\n",
    "\"Computer\", \"Knife\", \"Tablet\", \"Backpack\", \"Umbrella\", \"Pillow\", \"Notebook\", \"Headphones\", \"Plant\", \"Clock\",\n",
    "\"Mirror\", \"Wallet\", \"Brush\", \"Towel\", \"Journal\", \"Guitar\", \"Telescope\", \"Microscope\", \"Scissors\", \"Ruler\",\n",
    "\"Sunglasses\", \"Sculpture\", \"Easel\", \"Chessboard\", \"Screwdriver\", \"Compass\", \"Binoculars\", \"Flask\", \"Magnifying Glass\",\n",
    "\"Flashlight\", \"Envelope\", \"Laptop\", \"Calendar\", \"Paintbrush\", \"Chalkboard\", \"Puzzle\", \"Stapler\", \"Calculator\",\n",
    "\"Violin\", \"Globe\", \"Candle\", \"Kite\", \"Scales\", \"Brush\", \"Hammock\", \"Planner\", \"Photograph\", \"Badge\",\"Vanilla\", \"Chocolate\", \"Strawberry\", \"Mint Chocolate Chip\", \"Cookies and Cream\", \"Rocky Road\", \"Butter Pecan\", \"Neapolitan\", \"Pistachio\", \"Coffee\",\n",
    "\"Cookie Dough\", \"Rainbow Sherbet\", \"Mango Sorbet\", \"Black Cherry\", \"Maple Walnut\", \"Birthday Cake\", \"Cotton Candy\", \"Peanut Butter Cup\", \"Salted Caramel\", \"Toffee Crunch\",\n",
    "\"Cherry Garcia\", \"Peppermint\", \"Caramel Swirl\", \"Mocha Almond Fudge\", \"Biscoff\", \"Ginger\", \"White Chocolate Raspberry\", \"Guava\", \"Chocolate Fudge Brownie\", \"S'mores\", \"Malted Milk\", \"Pomegranate Sorbet\", \"Cinnamon\", \"Caramel Macchiato\",\"Red\", \"Blue\", \"Green\", \"Yellow\", \"Orange\", \"Purple\", \"Pink\", \"Brown\", \"Black\", \"White\",\n",
    "\"Gray\", \"Beige\", \"Turquoise\", \"Gold\", \"Silver\", \"Cyan\", \"Magenta\",\"Knife\", \"Tablet\", \"Backpack\", \"Umbrella\", \"Pillow\", \"Notebook\", \"Headphones\", \"Plant\", \"Clock\",\n",
    "\"Mirror\", \"Wallet\", \"Brush\", \"Towel\", \"Journal\", \"Guitar\", \"Telescope\", \"Microscope\", \"Scissors\", \"Ruler\",\n",
    "\"Sunglasses\", \"Sculpture\", \"Easel\", \"Chessboard\", \"Screwdriver\", \"Compass\", \"Binoculars\", \"Flask\", \"Magnifying Glass\",\n",
    "\"Flashlight\", \"Envelope\", \"Laptop\", \"Calendar\", \"Paintbrush\", \"Chalkboard\",\"Duck\",\"Goose\",\"Pelican\",\"Seagull\",\"Albatross\",\"Toucan\",\"Macaw\",\"Chimpanzee\",\"Gorilla\",\"Orangutan\",\n",
    "    \"Baboon\",\"Lemur\",\"Sloth\",\"Armadillo\",\"Anteater\",\"Platypus\",\"Beaver\",\"Otter\",\"Badger\",\"Weasel\",\n",
    "    \"Mongoose\",\"Meerkat\",\"Prairie Dog\",\"Groundhog\",\"Wombat\",\"Tasmanian Devil\",\"Dingo\",\"Jackal\",\"Coyote\",\n",
    "    \"Lynx\",\"Bobcat\",\"Caracal\",\"Serval\",\"Ocelot\",\"Snow Leopard\",\"Red Panda\",\"Raccoon\",\"Skunk\",\"Ferret\",\"Troy\",\"Lies\",\"Truth\",\"Aqua\", \"Violet\", \"Khaki\", \"Mauve\", \"Navy\", \"Slate\",\"Pumpkin Pie\", \"Blueberry Cheesecake\", \"Orange Creamsicle\", \"Almond Joy\", \"Tiramisu\", \"Chai Tea\", \"Matcha Green Tea\", \"Honey Lavender\",\n",
    "\"Ruby\", \"Sapphire\", \"Emerald\", \"Topaz\", \"Amber\", \"Crimson\", \"Sienna\",\"Cherry Garcia\", \"Peppermint\", \"Caramel Swirl\", \"Mocha Almond Fudge\", \"Banana Split\", \"Raspberry Ripple\",\"Mints\",\"Beige\", \"Turquoise\", \"Gold\", \"Silver\", \"Cyan\", \"Magenta\", \"Lavender\", \"Indigo\", \"Teal\",\"Globe\", \"Candle\", \"Kite\", \"Scales\", \"Brush\", \"Hammock\", \"Planner\", \"Photograph\", \"Badge\",\"Vanilla\", \"Chocolate\", \"Strawberry\", \"Mint Chocolate Chip\", \"Cookies and Cream\", \"Rocky Road\", \"Butter Pecan\", \"Neapolitan\", \"Pistachio\", \"Coffee\",\n",
    "\"Cookie Dough\", \"Rainbow Sherbet\", \"Mango Sorbet\", \"Black Cherry\", \"Maple Walnut\", \"Birthday Cake\", \"Cotton Candy\", \"Peanut Butter Cup\", \"Salted Caramel\", \"Toffee Crunch\",\n",
    "\"Cherry Garcia\", \"Peppermint\", \"Caramel Swirl\", \"Mocha Almond Fudge\", \"Banana Split\", \"Raspberry\",\"Irish Cream\", \"Pumpkin Pie\", \"Blueberry Cheesecake\", \"Orange Creamsicle\", \"Almond Joy\", \"Tiramisu\",\n",
    "\"Stracciatella\", \"Biscoff\", \"Ginger\", \"White Chocolate Raspberry\", \"Guava\", \"Chocolate Fudge Brownie\", \"S'mores\", \"Malted Milk\", \"Pomegranate Sorbet\", \"Cinnamon\", \"Caramel Macchiato\",\"Red\", \"Blue\", \"Green\", \"Yellow\", \"Orange\", \"Purple\", \"Pink\", \"Brown\", \"Black\", \"White\",\n",
    "\"Gray\", \"Beige\", \"Turquoise\", \"Gold\", \"Silver\", \"Cyan\", \"Magenta\", \"Lavender\", \"Indigo\", \"Teal\",\"Maroon\", \"Olive\", \"Coral\", \"Salmon\", \"Aqua\", \"Violet\", \"Khaki\", \"Mauve\", \"Navy\", \"Slate\",\n",
    "\"Ruby\", \"Sapphire\", \"Emerald\", \"Topaz\", \"Amber\", \"Crimson\", \"Sienna\",\"Sapphire\", \"Crimson\", \"Forest\", \"Amber\", \"Sunset\", \"Olive\", \"Lagoon\", \"Vermilion\", \"Ivory\", \"Peacock\",\n",
    "\"Book\", \"Bicycle\", \"Key\", \"Camera\", \"Map\", \"Globe\", \"Cup\", \"Chair\", \"Lamp\", \"Phone\",\n",
    "\"Computer\", \"Knife\", \"Tablet\", \"Backpack\", \"Umbrella\", \"Pillow\", \"Notebook\", \"Headphones\", \"Plant\", \"Clock\",\n",
    "\"Mirror\", \"Wallet\", \"Brush\", \"Towel\", \"Journal\", \"Guitar\", \"Telescope\", \"Microscope\", \"Scissors\", \"Ruler\",\n",
    "\"Sunglasses\", \"Sculpture\", \"Easel\", \"Chessboard\", \"Screwdriver\", \"Compass\", \"Binoculars\", \"Flask\", \"Magnifying Glass\",\n",
    "\"Flashlight\", \"Envelope\", \"Laptop\", \"Calendar\", \"Paintbrush\", \"Chalkboard\", \"Puzzle\", \"Stapler\", \"Calculator\",\n",
    "\"Violin\", \"Globe\", \"Candle\", \"Kite\", \"Scales\", \"Brush\", \"Hammock\", \"Planner\", \"Photograph\", \"Badge\",\"Vanilla\", \"Chocolate\", \"Strawberry\", \"Mint Chocolate Chip\", \"Cookies and Cream\", \"Rocky Road\", \"Butter Pecan\", \"Neapolitan\", \"Pistachio\", \"Coffee\",\n",
    "\"Cookie Dough\", \"Rainbow Sherbet\", \"Mango Sorbet\", \"Black Cherry\", \"Maple Walnut\", \"Birthday Cake\", \"Cotton Candy\", \"Peanut Butter Cup\", \"Salted Caramel\", \"Toffee Crunch\",\n",
    "\"Cherry Garcia\", \"Peppermint\", \"Caramel Swirl\", \"Mocha Almond Fudge\", \"Banana Split\", \"Raspberry Ripple\", \"Pralines and Cream\", \"Bubble Gum\", \"Coconut\", \"Lemon Sorbet\",\n",
    "\"Hazelnut Gelato\", \"Red Velvet\", \"Irish Cream\", \"Pumpkin Pie\", \"Blueberry Cheesecake\", \"Orange Creamsicle\", \"Almond Joy\", \"Tiramisu\", \"Chai Tea\", \"Matcha Green Tea\", \"Honey Lavender\",\n",
    "\"Stracciatella\", \"Biscoff\", \"Ginger\", \"White Chocolate Raspberry\", \"Guava\", \"Chocolate Fudge Brownie\", \"S'mores\", \"Malted Milk\", \"Pomegranate Sorbet\", \"Cinnamon\", \"Caramel Macchiato\",\"Red\", \"Blue\", \"Green\", \"Yellow\", \"Orange\", \"Purple\", \"Pink\", \"Brown\", \"Black\", \"White\",\n",
    "\"Gray\", \"Beige\", \"Turquoise\", \"Gold\", \"Silver\", \"Cyan\", \"Magenta\", \"Lavender\", \"Indigo\", \"Teal\",\n",
    "\"Maroon\", \"Olive\", \"Coral\", \"Salmon\", \"Aqua\", \"Violet\", \"Khaki\", \"Mauve\", \"Navy\", \"Slate\",\"Pumpkin Pie\", \"Blueberry Cheesecake\", \"Orange Creamsicle\", \"Almond Joy\", \"Tiramisu\", \"Chai Tea\", \"Matcha Green Tea\", \"Honey Lavender\",\n",
    "\"Ruby\", \"Sapphire\", \"Emerald\", \"Topaz\", \"Amber\", \"Crimson\", \"Sienna\"]\n",
    "\n",
    "\n",
    "# Function to perform the search and close the browser\n",
    "def search_and_close(query):\n",
    "    # Create a new instance of the Chrome driver (you can change it to other browsers if needed)\n",
    "    driver = webdriver.Edge()\n",
    "\n",
    "    try:\n",
    "        # Open the browser and navigate to Google\n",
    "        driver.get(\"https://www.bing.com/\")\n",
    "        driver.maximize_window()\n",
    "\n",
    "        # Find the search input element by name\n",
    "        search_box = driver.find_element(\"name\", \"q\")\n",
    "\n",
    "        # Type the query and submit\n",
    "        search_box.send_keys(query)\n",
    "        time.sleep(2)\n",
    "        search_box.send_keys(Keys.RETURN)\n",
    "\n",
    "        # Wait for a moment (you might want to adjust the sleep time)\n",
    "        time.sleep(20)\n",
    "\n",
    "    finally:\n",
    "        driver.quit()\n",
    "\n",
    "\n",
    "# Create a shuffled copy of the list\n",
    "shuffled_list = search_queries[:]\n",
    "random.shuffle(shuffled_list)\n",
    "\n",
    "\n",
    "#Loop through the list of queries\n",
    "        \n",
    "for query in shuffled_list:\n",
    "    search_and_close(query)        \n",
    "\n"
   ]
  },
  {
   "cell_type": "code",
   "execution_count": null,
   "metadata": {},
   "outputs": [
    {
     "name": "stdout",
     "output_type": "stream",
     "text": [
      "pr1tish ghatkar\n"
     ]
    }
   ],
   "source": [
    "string = \"pritish ghatkar\" # string\n",
    "modify_string = string.replace(\"i\",\"1\",1) # replace first with 1\n",
    "print(modify_string) # print the final"
   ]
  }
 ],
 "metadata": {
  "kernelspec": {
   "display_name": "ML5",
   "language": "python",
   "name": "python3"
  },
  "language_info": {
   "codemirror_mode": {
    "name": "ipython",
    "version": 3
   },
   "file_extension": ".py",
   "mimetype": "text/x-python",
   "name": "python",
   "nbconvert_exporter": "python",
   "pygments_lexer": "ipython3",
   "version": "3.10.13"
  }
 },
 "nbformat": 4,
 "nbformat_minor": 2
}
